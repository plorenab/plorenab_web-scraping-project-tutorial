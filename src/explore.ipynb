{
    "cells": [
        {
            "cell_type": "markdown",
            "metadata": {},
            "source": [
                "# Explore here\n",
                "\n",
                "It's recommended to use this notebook for exploration purposes."
            ]
        },
        {
            "cell_type": "code",
            "execution_count": null,
            "metadata": {},
            "outputs": [],
            "source": [
                "import os\n",
                "from bs4 import BeautifulSoup\n",
                "import requests\n",
                "import time\n",
                "import sqlite3\n",
                "import matplotlib.pyplot as plt\n",
                "import seaborn as sns\n",
                "import pandas as pd\n",
                "\n"
            ]
        },
        {
            "cell_type": "code",
            "execution_count": null,
            "metadata": {},
            "outputs": [],
            "source": [
                "pagina = \"https://en.wikipedia.org/wiki/List_of_most-streamed_songs_on_Spotify\"\n",
                "headers = {'User-Agent': 'CoolBot/0.0 (https://example.org/coolbot/; coolbot@example.org)'}\n",
                "\n",
                "response = requests.get(pagina, headers=headers)\n",
                "\n",
                "if response.status_code == 200:\n",
                "    with open(\"spotify_daily.html\", \"wb\") as dataset:\n",
                "        dataset.write(response.content)\n",
                "\n",
                "tablas = pd.read_html(response.text)\n",
                "df = tablas[0]\n",
                "df = df.rename(columns={\n",
                "        \"Rank\": \"rank\",\n",
                "        \"Song\": \"song\",\n",
                "        \"Artist(s)\": \"artist\",\n",
                "        \"Streams (billions)\": \"streams_billions\",\n",
                "        \"Release date\": \"release_date\"\n",
                "    })"
            ]
        }
    ],
    "metadata": {
        "kernelspec": {
            "display_name": "Python 3",
            "language": "python",
            "name": "python3"
        },
        "language_info": {
            "codemirror_mode": {
                "name": "ipython",
                "version": 3
            },
            "file_extension": ".py",
            "mimetype": "text/x-python",
            "name": "python",
            "nbconvert_exporter": "python",
            "pygments_lexer": "ipython3",
            "version": "3.11.4"
        },
        "orig_nbformat": 4
    },
    "nbformat": 4,
    "nbformat_minor": 2
}
